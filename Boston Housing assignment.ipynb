{
 "cells": [
  {
   "cell_type": "markdown",
   "metadata": {},
   "source": [
    "# Boston Housing Assignment\n",
    "\n",
    "Implimenting scikit learn's r2 score and mse methods for measuring the performance of the linear regressor and sklearn.linear_model.Ridge modle \n",
    " "
   ]
  },
  {
   "cell_type": "code",
   "execution_count": 1,
   "metadata": {
    "collapsed": true
   },
   "outputs": [],
   "source": [
    "from sklearn import datasets\n",
    "import pandas as pd\n",
    "from sklearn.preprocessing import StandardScaler\n",
    "from sklearn.cross_validation import train_test_split\n",
    "from sklearn.metrics import mean_squared_error\n",
    "from sklearn.metrics import r2_score\n",
    "from sklearn.linear_model import LinearRegression"
   ]
  },
  {
   "cell_type": "code",
   "execution_count": 2,
   "metadata": {
    "collapsed": false
   },
   "outputs": [
    {
     "name": "stdout",
     "output_type": "stream",
     "text": [
      "Boston House Prices dataset\n",
      "\n",
      "Notes\n",
      "------\n",
      "Data Set Characteristics:  \n",
      "\n",
      "    :Number of Instances: 506 \n",
      "\n",
      "    :Number of Attributes: 13 numeric/categorical predictive\n",
      "    \n",
      "    :Median Value (attribute 14) is usually the target\n",
      "\n",
      "    :Attribute Information (in order):\n",
      "        - CRIM     per capita crime rate by town\n",
      "        - ZN       proportion of residential land zoned for lots over 25,000 sq.ft.\n",
      "        - INDUS    proportion of non-retail business acres per town\n",
      "        - CHAS     Charles River dummy variable (= 1 if tract bounds river; 0 otherwise)\n",
      "        - NOX      nitric oxides concentration (parts per 10 million)\n",
      "        - RM       average number of rooms per dwelling\n",
      "        - AGE      proportion of owner-occupied units built prior to 1940\n",
      "        - DIS      weighted distances to five Boston employment centres\n",
      "        - RAD      index of accessibility to radial highways\n",
      "        - TAX      full-value property-tax rate per $10,000\n",
      "        - PTRATIO  pupil-teacher ratio by town\n",
      "        - B        1000(Bk - 0.63)^2 where Bk is the proportion of blacks by town\n",
      "        - LSTAT    % lower status of the population\n",
      "        - MEDV     Median value of owner-occupied homes in $1000's\n",
      "\n",
      "    :Missing Attribute Values: None\n",
      "\n",
      "    :Creator: Harrison, D. and Rubinfeld, D.L.\n",
      "\n",
      "This is a copy of UCI ML housing dataset.\n",
      "http://archive.ics.uci.edu/ml/datasets/Housing\n",
      "\n",
      "\n",
      "This dataset was taken from the StatLib library which is maintained at Carnegie Mellon University.\n",
      "\n",
      "The Boston house-price data of Harrison, D. and Rubinfeld, D.L. 'Hedonic\n",
      "prices and the demand for clean air', J. Environ. Economics & Management,\n",
      "vol.5, 81-102, 1978.   Used in Belsley, Kuh & Welsch, 'Regression diagnostics\n",
      "...', Wiley, 1980.   N.B. Various transformations are used in the table on\n",
      "pages 244-261 of the latter.\n",
      "\n",
      "The Boston house-price data has been used in many machine learning papers that address regression\n",
      "problems.   \n",
      "     \n",
      "**References**\n",
      "\n",
      "   - Belsley, Kuh & Welsch, 'Regression diagnostics: Identifying Influential Data and Sources of Collinearity', Wiley, 1980. 244-261.\n",
      "   - Quinlan,R. (1993). Combining Instance-Based and Model-Based Learning. In Proceedings on the Tenth International Conference of Machine Learning, 236-243, University of Massachusetts, Amherst. Morgan Kaufmann.\n",
      "   - many more! (see http://archive.ics.uci.edu/ml/datasets/Housing)\n",
      "\n"
     ]
    }
   ],
   "source": [
    "bean = datasets.load_boston()\n",
    "print bean.DESCR"
   ]
  },
  {
   "cell_type": "code",
   "execution_count": 3,
   "metadata": {
    "collapsed": true
   },
   "outputs": [],
   "source": [
    "def load_boston():\n",
    "    scaler = StandardScaler()\n",
    "    boston = datasets.load_boston()\n",
    "    X=boston.data\n",
    "    y=boston.target\n",
    "    X = scaler.fit_transform(X)\n",
    "    return train_test_split(X,y)"
   ]
  },
  {
   "cell_type": "code",
   "execution_count": 4,
   "metadata": {
    "collapsed": true
   },
   "outputs": [],
   "source": [
    "X_train, X_test, y_train, y_test = load_boston()"
   ]
  },
  {
   "cell_type": "code",
   "execution_count": 5,
   "metadata": {
    "collapsed": false
   },
   "outputs": [
    {
     "data": {
      "text/plain": [
       "(379, 13)"
      ]
     },
     "execution_count": 5,
     "metadata": {},
     "output_type": "execute_result"
    }
   ],
   "source": [
    "X_train.shape"
   ]
  },
  {
   "cell_type": "markdown",
   "metadata": {},
   "source": [
    "## Fitting a Linear Regression\n",
    "It's as easy as instantiating a new regression object (line 1) and giving your regression object your training data (line 2) by calling .fit(independent variables, dependent variable)"
   ]
  },
  {
   "cell_type": "code",
   "execution_count": 6,
   "metadata": {
    "collapsed": false
   },
   "outputs": [
    {
     "data": {
      "text/plain": [
       "LinearRegression(copy_X=True, fit_intercept=True, n_jobs=1, normalize=False)"
      ]
     },
     "execution_count": 6,
     "metadata": {},
     "output_type": "execute_result"
    }
   ],
   "source": [
    "clf = LinearRegression()\n",
    "clf.fit(X_train, y_train)"
   ]
  },
  {
   "cell_type": "markdown",
   "metadata": {},
   "source": [
    "# Making a Prediction\n",
    "X_test is our holdout set of data. We know the answer (y_test) but the computer does not.\n",
    "Using the command below, I create a tuple for each observation, where I'm combining the real value (y_test) with the value our regressor predicts (clf.predict(X_test))"
   ]
  },
  {
   "cell_type": "code",
   "execution_count": 7,
   "metadata": {
    "collapsed": false
   },
   "outputs": [
    {
     "data": {
      "text/plain": [
       "[(5.0, 9.3656636850083235),\n",
       " (19.300000000000001, 21.39753677389043),\n",
       " (37.899999999999999, 33.089125967384817),\n",
       " (24.5, 28.013571843863616),\n",
       " (23.399999999999999, 24.380522482250853),\n",
       " (26.600000000000001, 27.43482409595941),\n",
       " (23.800000000000001, 22.692242901613188),\n",
       " (22.699999999999999, 24.382585776139685),\n",
       " (20.800000000000001, 17.48766606718134),\n",
       " (16.399999999999999, 18.819193723828533),\n",
       " (24.399999999999999, 23.720144866575527),\n",
       " (24.699999999999999, 23.080754938498448),\n",
       " (13.0, 17.103337493587819),\n",
       " (13.1, 13.65067442617786),\n",
       " (29.100000000000001, 31.951307371477981),\n",
       " (22.899999999999999, 23.11703946662308),\n",
       " (22.5, 29.39625172526717),\n",
       " (7.2000000000000002, 17.920346361698957),\n",
       " (43.799999999999997, 35.412536165484127),\n",
       " (20.800000000000001, 16.996707961573563),\n",
       " (50.0, 31.711538630002075),\n",
       " (13.4, 14.719281444064926),\n",
       " (24.800000000000001, 25.95614950588903),\n",
       " (15.0, 13.933790483297321),\n",
       " (23.300000000000001, 21.699498262916688),\n",
       " (13.800000000000001, 13.585506300237551),\n",
       " (13.9, 12.902002764868547),\n",
       " (21.699999999999999, 21.760825244796219),\n",
       " (14.5, 13.616449107911613),\n",
       " (29.800000000000001, 32.502950058602039),\n",
       " (19.100000000000001, 16.466579255939308),\n",
       " (27.5, 19.504647558146068),\n",
       " (24.300000000000001, 20.015560855129781),\n",
       " (20.899999999999999, 22.309107187764177),\n",
       " (35.200000000000003, 34.446530516120021),\n",
       " (21.800000000000001, 20.561330130673468),\n",
       " (17.399999999999999, 22.18513451881849),\n",
       " (19.600000000000001, 17.171856546027321),\n",
       " (32.399999999999999, 34.707557343572859),\n",
       " (21.199999999999999, 21.264946861388839),\n",
       " (14.800000000000001, 14.461644184594681),\n",
       " (29.899999999999999, 31.061823064644379),\n",
       " (24.399999999999999, 22.247362653732935),\n",
       " (50.0, 29.635077202460522),\n",
       " (20.100000000000001, 20.825709633737365),\n",
       " (20.0, 15.481818865892132),\n",
       " (13.4, 15.989023786627767),\n",
       " (19.699999999999999, 14.329549483101975),\n",
       " (31.699999999999999, 32.825530749007712),\n",
       " (41.299999999999997, 32.518202434153451),\n",
       " (21.399999999999999, 22.21759372095547),\n",
       " (13.5, 13.519893118829636),\n",
       " (19.5, 19.529079223715485),\n",
       " (14.9, 17.491366389710695),\n",
       " (10.199999999999999, 17.018974862165702),\n",
       " (20.199999999999999, 21.784749173806652),\n",
       " (50.0, 21.209957139499735),\n",
       " (24.5, 21.010143848991778),\n",
       " (18.5, 24.597347210276141),\n",
       " (50.0, 41.780137216753701),\n",
       " (29.399999999999999, 30.806055553230287),\n",
       " (18.5, 13.382253561135284),\n",
       " (21.699999999999999, 21.864246650021396),\n",
       " (10.4, 16.139171384927153),\n",
       " (17.100000000000001, 19.068359378001141),\n",
       " (18.199999999999999, 17.897776731967522),\n",
       " (19.899999999999999, 19.590657823442978),\n",
       " (22.600000000000001, 24.595906873546944),\n",
       " (8.3000000000000007, 12.861223076603167),\n",
       " (19.300000000000001, 19.732704764449391),\n",
       " (16.100000000000001, 18.450654679549778),\n",
       " (13.4, 12.705457372187212),\n",
       " (35.100000000000001, 35.499181397753482),\n",
       " (36.0, 36.603551408083888),\n",
       " (16.600000000000001, 14.960183769705441),\n",
       " (13.199999999999999, 9.497090653291103),\n",
       " (20.100000000000001, 15.493329215166213),\n",
       " (23.899999999999999, 26.146576889878986),\n",
       " (19.600000000000001, 21.828568387649277),\n",
       " (14.1, 18.166585004000815),\n",
       " (50.0, 38.664334655754246),\n",
       " (33.200000000000003, 34.415490098819006),\n",
       " (13.6, 12.325347066169915),\n",
       " (29.0, 29.999660590391585),\n",
       " (32.200000000000003, 32.679396621510676),\n",
       " (10.5, 6.4090419791922635),\n",
       " (15.4, 15.890638628879261),\n",
       " (14.0, 14.111978145467269),\n",
       " (13.6, 13.467473471321922),\n",
       " (33.0, 23.471531635227379),\n",
       " (20.0, 20.846286125657677),\n",
       " (24.800000000000001, 30.949840514340913),\n",
       " (14.4, 9.8151061327858713),\n",
       " (24.399999999999999, 24.459399296787936),\n",
       " (12.699999999999999, 11.998679120567019),\n",
       " (19.300000000000001, 20.632056073783868),\n",
       " (16.800000000000001, 18.36233065786459),\n",
       " (17.800000000000001, 22.71231319610208),\n",
       " (26.5, 25.078240385619239),\n",
       " (22.399999999999999, 23.418722854181517),\n",
       " (21.699999999999999, 21.042578411562928),\n",
       " (22.899999999999999, 24.715336507177405),\n",
       " (19.199999999999999, 23.046538317202696),\n",
       " (7.0, -3.3007850345554672),\n",
       " (37.299999999999997, 34.620539852402494),\n",
       " (14.9, 14.904172864919948),\n",
       " (18.899999999999999, 19.146063035079738),\n",
       " (18.300000000000001, 19.000860997854815),\n",
       " (10.800000000000001, 11.65813678810002),\n",
       " (30.100000000000001, 34.808781869977075),\n",
       " (21.699999999999999, 22.634978226946476),\n",
       " (14.300000000000001, 13.811610614895855),\n",
       " (37.200000000000003, 32.682996558346545),\n",
       " (21.899999999999999, 14.285591788022561),\n",
       " (20.600000000000001, 21.841315718109065),\n",
       " (12.699999999999999, 17.543863633826756),\n",
       " (22.699999999999999, 20.411148888890843),\n",
       " (28.100000000000001, 25.466150551376789),\n",
       " (22.0, 27.646692572639083),\n",
       " (29.600000000000001, 25.325821842385913),\n",
       " (17.100000000000001, 17.463635709490454),\n",
       " (32.5, 29.939204641991747),\n",
       " (38.700000000000003, 35.554893949825505),\n",
       " (8.8000000000000007, 6.7127652445247996),\n",
       " (22.199999999999999, 23.334209543685127),\n",
       " (28.399999999999999, 30.637086856099408),\n",
       " (23.699999999999999, 27.77578502016506)]"
      ]
     },
     "execution_count": 7,
     "metadata": {},
     "output_type": "execute_result"
    }
   ],
   "source": [
    "zip (y_test, clf.predict(X_test))"
   ]
  },
  {
   "cell_type": "code",
   "execution_count": 8,
   "metadata": {
    "collapsed": false
   },
   "outputs": [
    {
     "data": {
      "text/plain": [
       "25.604546245580071"
      ]
     },
     "execution_count": 8,
     "metadata": {},
     "output_type": "execute_result"
    }
   ],
   "source": [
    "\n",
    "mean_squared_error(y_test, clf.predict(X_test))"
   ]
  },
  {
   "cell_type": "code",
   "execution_count": 9,
   "metadata": {
    "collapsed": false
   },
   "outputs": [
    {
     "data": {
      "text/plain": [
       "0.70660580797569805"
      ]
     },
     "execution_count": 9,
     "metadata": {},
     "output_type": "execute_result"
    }
   ],
   "source": [
    "\n",
    "r2_score(y_test, clf.predict(X_test))"
   ]
  },
  {
   "cell_type": "markdown",
   "metadata": {},
   "source": [
    "## Linear Regression\n",
    "## MSE = 25.604546245580071\n",
    "## r2_score = 0.70660580797569805"
   ]
  },
  {
   "cell_type": "code",
   "execution_count": 10,
   "metadata": {
    "collapsed": false
   },
   "outputs": [
    {
     "data": {
      "text/plain": [
       "Ridge(alpha=0.01, copy_X=True, fit_intercept=True, max_iter=None,\n",
       "   normalize=False, random_state=None, solver='auto', tol=0.001)"
      ]
     },
     "execution_count": 10,
     "metadata": {},
     "output_type": "execute_result"
    }
   ],
   "source": [
    "#taking alpha=.01 for implementing sklearn.linear_model.Ridge\n",
    "from sklearn.linear_model import Ridge\n",
    "r = Ridge(alpha=.01)\n",
    "r.fit(X_train, y_train)"
   ]
  },
  {
   "cell_type": "code",
   "execution_count": 11,
   "metadata": {
    "collapsed": false
   },
   "outputs": [
    {
     "data": {
      "text/plain": [
       "[(5.0, 9.3671305427965983),\n",
       " (19.300000000000001, 21.398438435676677),\n",
       " (37.899999999999999, 33.088672377256174),\n",
       " (24.5, 28.013570343473472),\n",
       " (23.399999999999999, 24.380415168878233),\n",
       " (26.600000000000001, 27.434786450273705),\n",
       " (23.800000000000001, 22.692125229200361),\n",
       " (22.699999999999999, 24.382428119971138),\n",
       " (20.800000000000001, 17.48730028283769),\n",
       " (16.399999999999999, 18.819155379978532),\n",
       " (24.399999999999999, 23.720050366901265),\n",
       " (24.699999999999999, 23.080680941699065),\n",
       " (13.0, 17.103303326973762),\n",
       " (13.1, 13.651151258333199),\n",
       " (29.100000000000001, 31.951179514917399),\n",
       " (22.899999999999999, 23.117098999113502),\n",
       " (22.5, 29.396292270726597),\n",
       " (7.2000000000000002, 17.920342809863421),\n",
       " (43.799999999999997, 35.412751310794548),\n",
       " (20.800000000000001, 16.996414219379378),\n",
       " (50.0, 31.711081759620225),\n",
       " (13.4, 14.720037917903193),\n",
       " (24.800000000000001, 25.956060388333036),\n",
       " (15.0, 13.934380762973451),\n",
       " (23.300000000000001, 21.699461327913518),\n",
       " (13.800000000000001, 13.586203853951931),\n",
       " (13.9, 12.902397824005607),\n",
       " (21.699999999999999, 21.760942305042388),\n",
       " (14.5, 13.616838564246549),\n",
       " (29.800000000000001, 32.50294344721415),\n",
       " (19.100000000000001, 16.466159901644851),\n",
       " (27.5, 19.504465760847033),\n",
       " (24.300000000000001, 20.015845989561004),\n",
       " (20.899999999999999, 22.309525628342772),\n",
       " (35.200000000000003, 34.446467781186534),\n",
       " (21.800000000000001, 20.561513911439626),\n",
       " (17.399999999999999, 22.185007326606879),\n",
       " (19.600000000000001, 17.172163128848222),\n",
       " (32.399999999999999, 34.70710970728571),\n",
       " (21.199999999999999, 21.265175142798107),\n",
       " (14.800000000000001, 14.462105151659518),\n",
       " (29.899999999999999, 31.061660398732641),\n",
       " (24.399999999999999, 22.247453500671572),\n",
       " (50.0, 29.634595970989508),\n",
       " (20.100000000000001, 20.825968904803496),\n",
       " (20.0, 15.481851947955811),\n",
       " (13.4, 15.989051276934401),\n",
       " (19.699999999999999, 14.329889808743737),\n",
       " (31.699999999999999, 32.825204057099249),\n",
       " (41.299999999999997, 32.517942360622115),\n",
       " (21.399999999999999, 22.216541897005051),\n",
       " (13.5, 13.520313050297435),\n",
       " (19.5, 19.529017773445773),\n",
       " (14.9, 17.491315624636471),\n",
       " (10.199999999999999, 17.018995982035882),\n",
       " (20.199999999999999, 21.784630087186031),\n",
       " (50.0, 21.209043000886631),\n",
       " (24.5, 21.010398110405422),\n",
       " (18.5, 24.59754089992925),\n",
       " (50.0, 41.779781523246704),\n",
       " (29.399999999999999, 30.805918318168963),\n",
       " (18.5, 13.382561728626495),\n",
       " (21.699999999999999, 21.864248985183767),\n",
       " (10.4, 16.141251487853747),\n",
       " (17.100000000000001, 19.068709079714726),\n",
       " (18.199999999999999, 17.897999885953695),\n",
       " (19.899999999999999, 19.590248901870218),\n",
       " (22.600000000000001, 24.596834957278681),\n",
       " (8.3000000000000007, 12.861416504799209),\n",
       " (19.300000000000001, 19.733004280782428),\n",
       " (16.100000000000001, 18.450512723700587),\n",
       " (13.4, 12.705211390939056),\n",
       " (35.100000000000001, 35.498436692287413),\n",
       " (36.0, 36.603145283772974),\n",
       " (16.600000000000001, 14.96059294154869),\n",
       " (13.199999999999999, 9.4976657668554125),\n",
       " (20.100000000000001, 15.494709004043866),\n",
       " (23.899999999999999, 26.14632111472114),\n",
       " (19.600000000000001, 21.82797900903774),\n",
       " (14.1, 18.16636424454353),\n",
       " (50.0, 38.66436100497404),\n",
       " (33.200000000000003, 34.415243141535306),\n",
       " (13.6, 12.325689369896921),\n",
       " (29.0, 29.999501375952772),\n",
       " (32.200000000000003, 32.679386555398075),\n",
       " (10.5, 6.4092516253970295),\n",
       " (15.4, 15.891175734298207),\n",
       " (14.0, 14.112415895156621),\n",
       " (13.6, 13.468871310383575),\n",
       " (33.0, 23.472090479418053),\n",
       " (20.0, 20.846216266123843),\n",
       " (24.800000000000001, 30.949923590382735),\n",
       " (14.4, 9.8153065210686563),\n",
       " (24.399999999999999, 24.459592126954362),\n",
       " (12.699999999999999, 11.99862593784249),\n",
       " (19.300000000000001, 20.632344037905984),\n",
       " (16.800000000000001, 18.362345357521736),\n",
       " (17.800000000000001, 22.71240913074595),\n",
       " (26.5, 25.078566041815652),\n",
       " (22.399999999999999, 23.418897396551621),\n",
       " (21.699999999999999, 21.042722562944522),\n",
       " (22.899999999999999, 24.715225604366474),\n",
       " (19.199999999999999, 23.046782852634134),\n",
       " (7.0, -3.2997833632679097),\n",
       " (37.299999999999997, 34.619787319325546),\n",
       " (14.9, 14.904323474951255),\n",
       " (18.899999999999999, 19.146344615563041),\n",
       " (18.300000000000001, 19.001153937433426),\n",
       " (10.800000000000001, 11.658292045112084),\n",
       " (30.100000000000001, 34.808318744364549),\n",
       " (21.699999999999999, 22.634831011363222),\n",
       " (14.300000000000001, 13.811962241499181),\n",
       " (37.200000000000003, 32.682589127056545),\n",
       " (21.899999999999999, 14.285133891399049),\n",
       " (20.600000000000001, 21.841380383712981),\n",
       " (12.699999999999999, 17.543755681941558),\n",
       " (22.699999999999999, 20.411314614299098),\n",
       " (28.100000000000001, 25.465994474582423),\n",
       " (22.0, 27.646602494551423),\n",
       " (29.600000000000001, 25.326288467609825),\n",
       " (17.100000000000001, 17.463706901457918),\n",
       " (32.5, 29.938711989330976),\n",
       " (38.700000000000003, 35.555099294207288),\n",
       " (8.8000000000000007, 6.7144660616250231),\n",
       " (22.199999999999999, 23.334059356855949),\n",
       " (28.399999999999999, 30.636210227621426),\n",
       " (23.699999999999999, 27.775710743988547)]"
      ]
     },
     "execution_count": 11,
     "metadata": {},
     "output_type": "execute_result"
    }
   ],
   "source": [
    "zip (y_test, r.predict(X_test))"
   ]
  },
  {
   "cell_type": "code",
   "execution_count": 12,
   "metadata": {
    "collapsed": false
   },
   "outputs": [
    {
     "data": {
      "text/plain": [
       "25.605134378214487"
      ]
     },
     "execution_count": 12,
     "metadata": {},
     "output_type": "execute_result"
    }
   ],
   "source": [
    "mean_squared_error(y_test, r.predict(X_test))\n"
   ]
  },
  {
   "cell_type": "code",
   "execution_count": 13,
   "metadata": {
    "collapsed": false
   },
   "outputs": [
    {
     "data": {
      "text/plain": [
       "0.70659906875456824"
      ]
     },
     "execution_count": 13,
     "metadata": {},
     "output_type": "execute_result"
    }
   ],
   "source": [
    "r2_score(y_test, r.predict(X_test))"
   ]
  },
  {
   "cell_type": "markdown",
   "metadata": {},
   "source": [
    "## Ridge Linear Regression\n",
    "## MSE = 25.605134378214487\n",
    "## r2_score = 0.70659906875456824\n"
   ]
  },
  {
   "cell_type": "code",
   "execution_count": null,
   "metadata": {
    "collapsed": true
   },
   "outputs": [],
   "source": []
  }
 ],
 "metadata": {
  "anaconda-cloud": {},
  "kernelspec": {
   "display_name": "Python [Root]",
   "language": "python",
   "name": "Python [Root]"
  },
  "language_info": {
   "codemirror_mode": {
    "name": "ipython",
    "version": 2
   },
   "file_extension": ".py",
   "mimetype": "text/x-python",
   "name": "python",
   "nbconvert_exporter": "python",
   "pygments_lexer": "ipython2",
   "version": "2.7.12"
  }
 },
 "nbformat": 4,
 "nbformat_minor": 0
}
